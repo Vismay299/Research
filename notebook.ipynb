{
 "cells": [
  {
   "cell_type": "code",
   "execution_count": 1,
   "metadata": {},
   "outputs": [],
   "source": [
    "import dlib\n",
    "import cv2\n",
    "from scipy.spatial import distance\n",
    "import pandas as pd"
   ]
  },
  {
   "cell_type": "code",
   "execution_count": 2,
   "metadata": {},
   "outputs": [],
   "source": [
    "image = cv2.imread('/Users/apple/Desktop/Research/Research/img1.jpeg')\n",
    "\n",
    "# Initialize face detector and landmark predictor\n",
    "detector = dlib.get_frontal_face_detector()\n",
    "predictor = dlib.shape_predictor('/Users/apple/Desktop/Research/Research/shape_predictor_68_face_landmarks.dat')"
   ]
  },
  {
   "cell_type": "code",
   "execution_count": 3,
   "metadata": {},
   "outputs": [],
   "source": [
    "# Convert the image to grayscale\n",
    "gray = cv2.cvtColor(image, cv2.COLOR_BGR2GRAY)\n",
    "\n",
    "# Detect faces in the grayscale image\n",
    "faces = detector(gray)\n",
    "\n",
    "# Assuming there's only one face detected in the image\n",
    "face = faces[0]\n",
    "# Get the landmarks for the detected face\n",
    "landmarks = predictor(gray, face)\n",
    "\n",
    "# Assuming you have a DataFrame named 'dataframe'\n",
    "dataframe = pd.DataFrame({\n",
    "    'or-pi(left)': [0],\n",
    "    'or-pi(right)': [0],\n",
    "    'sabl-ls(left)': [0],\n",
    "    'sabl-ls(right)': [0],\n",
    "    'ps-pi(left)': [0],\n",
    "    'ps-pi(right)': [0],\n",
    "    'cph-cph':[0],\n",
    "    \"sn-c'\":[0],\n",
    "    'n-sto':[0],\n",
    "    'sn-sto':[0],\n",
    "    'li-sto':[0]\n",
    "    })"
   ]
  },
  {
   "cell_type": "code",
   "execution_count": 4,
   "metadata": {},
   "outputs": [],
   "source": [
    "def calculate_distance_and_update_dataframe(landmark1, landmark2, column_name):\n",
    "    x1, y1 = landmarks.part(landmark1).x, landmarks.part(landmark1).y\n",
    "    x2, y2 = landmarks.part(landmark2).x, landmarks.part(landmark2).y\n",
    "\n",
    "    distance_value = distance.euclidean((x1, y1), (x2, y2))\n",
    "    dataframe[column_name] = distance_value\n",
    "\n",
    "calculate_distance_and_update_dataframe(25, 47, 'or-pi(left)')\n",
    "calculate_distance_and_update_dataframe(20, 42, 'or-pi(right)')\n",
    "calculate_distance_and_update_dataframe(35, 52, 'sabl-ls(left)')\n",
    "calculate_distance_and_update_dataframe(33, 52, 'sabl-ls(right)')\n",
    "calculate_distance_and_update_dataframe(44, 47, 'ps-pi(left)')\n",
    "calculate_distance_and_update_dataframe(39, 42, 'ps-pi(right)')\n",
    "calculate_distance_and_update_dataframe(51, 53, 'cph-cph')\n",
    "calculate_distance_and_update_dataframe(46, 49, \"sn-c'\")\n",
    "calculate_distance_and_update_dataframe(43, (52 + 58) // 2, 'n-sto')\n",
    "calculate_distance_and_update_dataframe(49, (52 + 58) // 2, 'sn-sto')\n",
    "calculate_distance_and_update_dataframe(58, (52 + 58) // 2, 'li-sto')"
   ]
  },
  {
   "cell_type": "code",
   "execution_count": 5,
   "metadata": {},
   "outputs": [
    {
     "data": {
      "text/html": [
       "<div>\n",
       "<style scoped>\n",
       "    .dataframe tbody tr th:only-of-type {\n",
       "        vertical-align: middle;\n",
       "    }\n",
       "\n",
       "    .dataframe tbody tr th {\n",
       "        vertical-align: top;\n",
       "    }\n",
       "\n",
       "    .dataframe thead th {\n",
       "        text-align: right;\n",
       "    }\n",
       "</style>\n",
       "<table border=\"1\" class=\"dataframe\">\n",
       "  <thead>\n",
       "    <tr style=\"text-align: right;\">\n",
       "      <th></th>\n",
       "      <th>or-pi(left)</th>\n",
       "      <th>or-pi(right)</th>\n",
       "      <th>sabl-ls(left)</th>\n",
       "      <th>sabl-ls(right)</th>\n",
       "      <th>ps-pi(left)</th>\n",
       "      <th>ps-pi(right)</th>\n",
       "      <th>cph-cph</th>\n",
       "      <th>sn-c'</th>\n",
       "      <th>n-sto</th>\n",
       "      <th>sn-sto</th>\n",
       "      <th>li-sto</th>\n",
       "    </tr>\n",
       "  </thead>\n",
       "  <tbody>\n",
       "    <tr>\n",
       "      <th>0</th>\n",
       "      <td>110.6752</td>\n",
       "      <td>171.233758</td>\n",
       "      <td>76.843998</td>\n",
       "      <td>60.827625</td>\n",
       "      <td>40.804412</td>\n",
       "      <td>142.003521</td>\n",
       "      <td>68.0</td>\n",
       "      <td>330.478441</td>\n",
       "      <td>321.25535</td>\n",
       "      <td>135.36617</td>\n",
       "      <td>99.126182</td>\n",
       "    </tr>\n",
       "  </tbody>\n",
       "</table>\n",
       "</div>"
      ],
      "text/plain": [
       "   or-pi(left)  or-pi(right)  sabl-ls(left)  sabl-ls(right)  ps-pi(left)  \\\n",
       "0     110.6752    171.233758      76.843998       60.827625    40.804412   \n",
       "\n",
       "   ps-pi(right)  cph-cph       sn-c'      n-sto     sn-sto     li-sto  \n",
       "0    142.003521     68.0  330.478441  321.25535  135.36617  99.126182  "
      ]
     },
     "execution_count": 5,
     "metadata": {},
     "output_type": "execute_result"
    }
   ],
   "source": [
    "dataframe"
   ]
  },
  {
   "cell_type": "code",
   "execution_count": null,
   "metadata": {},
   "outputs": [],
   "source": []
  }
 ],
 "metadata": {
  "kernelspec": {
   "display_name": "myenv",
   "language": "python",
   "name": "python3"
  },
  "language_info": {
   "codemirror_mode": {
    "name": "ipython",
    "version": 3
   },
   "file_extension": ".py",
   "mimetype": "text/x-python",
   "name": "python",
   "nbconvert_exporter": "python",
   "pygments_lexer": "ipython3",
   "version": "3.10.6"
  }
 },
 "nbformat": 4,
 "nbformat_minor": 2
}
